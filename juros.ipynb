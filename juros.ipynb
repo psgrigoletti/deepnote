from datetime import datetime
import requests
from time import sleep
from requests import ConnectTimeout, ReadTimeout
import pandas as pd
import plotly.graph_objects as go